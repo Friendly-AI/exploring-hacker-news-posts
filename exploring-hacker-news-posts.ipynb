{
 "cells": [
  {
   "cell_type": "markdown",
   "metadata": {},
   "source": [
    "# Exploring Hacker News Posts\n",
    "\n",
    "In this project, I'll work with a data set of submissions to popular technology site [Hacker News](https://news.ycombinator.com/).\n",
    "\n",
    "Hacker News is a site started by the startup incubator [Y Combinator](https://www.ycombinator.com/), where user-submitted stories (known as \"posts\") are voted and commented upon, similar to reddit. Hacker News is extremely popular in technology and startup circles, and posts that make it to the top of Hacker News' listings can get hundreds of thousands of visitors as a result.\n",
    "\n",
    "I'm specifically interested in posts whose titles begin with either **Ask HN** or **Show HN**. Users submit Ask HN posts to ask the Hacker News community a specific question; users submit Show HN posts to show the Hacker News community a project, product, or just generally something interesting.\n",
    "\n",
    "My goal is to compare these two types of posts to determine the following:\n",
    "\n",
    "- Do Ask HN or Show HN posts receive more comments on average?\n",
    "\n",
    "\n",
    "- Do posts created at a certain time receive more comments on average?\n",
    "\n",
    "\n",
    "- Do Ask HN or Show HN posts receive more points on average?\n",
    "\n",
    "\n",
    "- Do posts created at a certain time receive more points on average?\n",
    "\n",
    "## Opening and Exploring the Data\n",
    "\n",
    "To begin working with the data set, I'll start by opening and reading it. I'll also make sure to separate the header row, which is the very first row, from the data set since it only contains the column headers/names &mdash; not real data."
   ]
  },
  {
   "cell_type": "code",
   "execution_count": 1,
   "metadata": {},
   "outputs": [],
   "source": [
    "from csv import reader\n",
    "\n",
    "opened_file = open(\"../data_sets/hacker_news.csv\")\n",
    "read_file = reader(opened_file)\n",
    "\n",
    "hn = list(read_file)\n",
    "hn_header = hn[0]\n",
    "hn = hn[1:]"
   ]
  },
  {
   "cell_type": "markdown",
   "metadata": {},
   "source": [
    "Next, to make the data set easier to explore, I'll create a function named `explore_data()` that I can repeatedly use to print rows of data in a readable way. In addition, when I use this function, I'll have the option to output the number of rows and columns in the data set. After I define this function, I'll print the columns of the data set to understand what the data points represent. Lastly, I'll use this function to investigate a small selection of the data."
   ]
  },
  {
   "cell_type": "code",
   "execution_count": 2,
   "metadata": {},
   "outputs": [
    {
     "name": "stdout",
     "output_type": "stream",
     "text": [
      "['id', 'title', 'url', 'num_points', 'num_comments', 'author', 'created_at']\n",
      "\n",
      "['12579008', 'You have two days to comment if you want stem cells to be classified as your own', 'http://www.regulations.gov/document?D=FDA-2015-D-3719-0018', '1', '0', 'altstar', '9/26/2016 3:26']\n",
      "\n",
      "['12579005', 'SQLAR  the SQLite Archiver', 'https://www.sqlite.org/sqlar/doc/trunk/README.md', '1', '0', 'blacksqr', '9/26/2016 3:24']\n",
      "\n",
      "['12578997', 'What if we just printed a flatscreen television on the side of our boxes?', 'https://medium.com/vanmoof/our-secrets-out-f21c1f03fdc8#.ietxmez43', '1', '0', 'pavel_lishin', '9/26/2016 3:19']\n",
      "\n",
      "Number of rows: 293119\n",
      "Number of columns: 7\n"
     ]
    }
   ],
   "source": [
    "def explore_data(data_set, start, end, rows_and_columns=False):\n",
    "    data_slice = data_set[start:end]\n",
    "    for row in data_slice:\n",
    "        print(row)\n",
    "        \n",
    "        # Print an extra line of space after each row for readability\n",
    "        print()\n",
    "        \n",
    "    if rows_and_columns:\n",
    "        print(\"Number of rows:\", len(data_set))\n",
    "        print(\"Number of columns:\", len(data_set[0]))\n",
    "        \n",
    "print(hn_header)\n",
    "\n",
    "print()\n",
    "\n",
    "explore_data(hn, 0, 3, True) # First few rows of the data set"
   ]
  },
  {
   "cell_type": "markdown",
   "metadata": {},
   "source": [
    "You can find the data set [here](https://www.kaggle.com/hacker-news/hacker-news-posts), but note that it has been reduced from almost 300,000 rows to approximately 20,000 rows by removing all submissions that did not receive any comments and then randomly sampling from the remaining submissions. Below are descriptions of the columns:\n",
    "\n",
    "- `id`: The unique identifier from Hacker News for the post\n",
    "\n",
    "\n",
    "- `title`: The title of the post\n",
    "\n",
    "\n",
    "- `url`: The URL that the posts links to (if the post has a URL)\n",
    "\n",
    "\n",
    "- `num_points`: The number of points the post acquired (the total number of upvotes minus the total number of downvotes)\n",
    "\n",
    "\n",
    "- `num_comments`: The number of comments that were made on the post\n",
    "\n",
    "\n",
    "- `author`: The username of the person who submitted the post\n",
    "\n",
    "\n",
    "- `created_at`: The date and time at which the post was submitted\n",
    "\n",
    "## Extracting Ask HN and Show HN Posts\n",
    "\n",
    "Now, I'm ready to filter the data. Since I'm only concerned with post titles beginning with \"Ask HN\" or \"Show HN\" (including case variations of the two), I'll create sub data sets containing just the data for those titles."
   ]
  },
  {
   "cell_type": "code",
   "execution_count": 3,
   "metadata": {},
   "outputs": [],
   "source": [
    "ask_posts = []\n",
    "show_posts = []\n",
    "other_posts = []\n",
    "\n",
    "for row in hn:\n",
    "    title = row[1]\n",
    "    title = title.lower()\n",
    "    \n",
    "    if title.startswith(\"ask hn\"):\n",
    "        ask_posts.append(row)\n",
    "    elif title.startswith(\"show hn\"):\n",
    "        show_posts.append(row)\n",
    "    else:\n",
    "        other_posts.append(row)"
   ]
  },
  {
   "cell_type": "markdown",
   "metadata": {},
   "source": [
    "Finally, with the Ask HN, Show HN, and other posts separated, I'll explore the first five rows of each list to get a good sense of them and find out exactly how many posts are in each one."
   ]
  },
  {
   "cell_type": "code",
   "execution_count": 4,
   "metadata": {},
   "outputs": [
    {
     "name": "stdout",
     "output_type": "stream",
     "text": [
      "Ask HN Posts:\n",
      "\n",
      "['12578908', 'Ask HN: What TLD do you use for local development?', '', '4', '7', 'Sevrene', '9/26/2016 2:53']\n",
      "\n",
      "['12578522', 'Ask HN: How do you pass on your work when you die?', '', '6', '3', 'PascLeRasc', '9/26/2016 1:17']\n",
      "\n",
      "['12577908', 'Ask HN: How a DNS problem can be limited to a geographic region?', '', '1', '0', 'kuon', '9/25/2016 22:57']\n",
      "\n",
      "['12577870', 'Ask HN: Why join a fund when you can be an angel?', '', '1', '3', 'anthony_james', '9/25/2016 22:48']\n",
      "\n",
      "['12577647', 'Ask HN: Someone uses stock trading as passive income?', '', '5', '2', '00taffe', '9/25/2016 21:50']\n",
      "\n",
      "Number of rows: 9139\n",
      "Number of columns: 7\n",
      "\n",
      "Show HN Posts:\n",
      "\n",
      "['12578335', 'Show HN: Finding puns computationally', 'http://puns.samueltaylor.org/', '2', '0', 'saamm', '9/26/2016 0:36']\n",
      "\n",
      "['12578182', 'Show HN: A simple library for complicated animations', 'https://christinecha.github.io/choreographer-js/', '1', '0', 'christinecha', '9/26/2016 0:01']\n",
      "\n",
      "['12578098', 'Show HN: WebGL visualization of DNA sequences', 'http://grondilu.github.io/dna.html', '1', '0', 'grondilu', '9/25/2016 23:44']\n",
      "\n",
      "['12577991', 'Show HN: Pomodoro-centric, heirarchical project management with ES6 modules', 'https://github.com/jakebian/zeal', '2', '0', 'dbranes', '9/25/2016 23:17']\n",
      "\n",
      "['12577142', 'Show HN: Jumble  Essays on the go #PaulInYourPocket', 'https://itunes.apple.com/us/app/jumble-find-startup-essay/id1150939197?ls=1&mt=8', '1', '1', 'ryderj', '9/25/2016 20:06']\n",
      "\n",
      "Number of rows: 10158\n",
      "Number of columns: 7\n",
      "\n",
      "Other Posts:\n",
      "\n",
      "['12579008', 'You have two days to comment if you want stem cells to be classified as your own', 'http://www.regulations.gov/document?D=FDA-2015-D-3719-0018', '1', '0', 'altstar', '9/26/2016 3:26']\n",
      "\n",
      "['12579005', 'SQLAR  the SQLite Archiver', 'https://www.sqlite.org/sqlar/doc/trunk/README.md', '1', '0', 'blacksqr', '9/26/2016 3:24']\n",
      "\n",
      "['12578997', 'What if we just printed a flatscreen television on the side of our boxes?', 'https://medium.com/vanmoof/our-secrets-out-f21c1f03fdc8#.ietxmez43', '1', '0', 'pavel_lishin', '9/26/2016 3:19']\n",
      "\n",
      "['12578989', 'algorithmic music', 'http://cacm.acm.org/magazines/2011/7/109891-algorithmic-composition/fulltext', '1', '0', 'poindontcare', '9/26/2016 3:16']\n",
      "\n",
      "['12578979', 'How the Data Vault Enables the Next-Gen Data Warehouse and Data Lake', 'https://www.talend.com/blog/2016/05/12/talend-and-Â\\x93the-data-vaultÂ\\x94', '1', '0', 'markgainor1', '9/26/2016 3:14']\n",
      "\n",
      "Number of rows: 273822\n",
      "Number of columns: 7\n"
     ]
    }
   ],
   "source": [
    "print(\"Ask HN Posts:\\n\")\n",
    "\n",
    "explore_data(ask_posts, 0, 5, True)\n",
    "\n",
    "print(\"\\nShow HN Posts:\\n\")\n",
    "\n",
    "explore_data(show_posts, 0, 5, True)\n",
    "\n",
    "print(\"\\nOther Posts:\\n\")\n",
    "\n",
    "explore_data(other_posts, 0, 5, True)"
   ]
  },
  {
   "cell_type": "markdown",
   "metadata": {},
   "source": [
    "## Part 1: Analyzing the Number of Comments for Ask HN and Show HN Posts\n",
    "\n",
    "In this first analysis, I'll complete the first half of my goal by taking a look at the comments of the Ask HN and Show HN posts in the data set to answer these questions:\n",
    "\n",
    "- Do Ask HN or Show HN posts receive more comments on average?\n",
    "\n",
    "- Do posts created at a certain time receive more comments on average?\n",
    "\n",
    "### Calculating the Average Number of Comments\n",
    "\n",
    "Firstly, I'll find out if ask posts or show posts receive more comments on average."
   ]
  },
  {
   "cell_type": "code",
   "execution_count": 5,
   "metadata": {},
   "outputs": [
    {
     "name": "stdout",
     "output_type": "stream",
     "text": [
      "Average number of comments per Ask HN post: 10\n",
      "Average number of comments per Show HN post: 5\n"
     ]
    }
   ],
   "source": [
    "total_ask_comments = 0\n",
    "total_show_comments = 0\n",
    "\n",
    "for row in ask_posts:\n",
    "    num_comments = int(row[4])\n",
    "    \n",
    "    total_ask_comments += num_comments\n",
    "\n",
    "for row in show_posts:\n",
    "    num_comments = int(row[4])\n",
    "    \n",
    "    total_show_comments += num_comments\n",
    "\n",
    "avg_ask_comments = total_ask_comments / len(ask_posts)\n",
    "avg_show_comments = total_show_comments / len(show_posts)\n",
    "\n",
    "print(\"Average number of comments per Ask HN post:\", round(avg_ask_comments)) # Round average to the ones place for readability\n",
    "print(\"Average number of comments per Show HN post:\", round(avg_show_comments))"
   ]
  },
  {
   "cell_type": "markdown",
   "metadata": {},
   "source": [
    "As you can see in the output above, Ask HN posts receive five more comments on average than Show HN posts.\n",
    "\n",
    "Since ask posts are more likely to receive comments, I'll focus my remaining analysis just on these posts.\n",
    "\n",
    "### Finding the Amount of Ask Posts and Comments by Hour Created\n",
    "\n",
    "Next, I'll determine if ask posts created at a certain time are more likely to attract comments. I'll use the following steps to perform this analysis:\n",
    "\n",
    "1. Calculate the amount of ask posts created in each hour of the day, along with the number of comments received.\n",
    "2. Calculate the average number of comments ask posts receive by hour created.\n",
    "\n",
    "In this section, I'll tackle the first step — calculating the amount of ask posts and comments by hour created. I'll work with the data in the `created_at` column; I'll calculate the amount of ask posts created per hour, along with the total amount of comments."
   ]
  },
  {
   "cell_type": "code",
   "execution_count": 6,
   "metadata": {},
   "outputs": [],
   "source": [
    "import datetime as dt\n",
    "\n",
    "result_list = []\n",
    "\n",
    "for row in ask_posts:\n",
    "    created_at = row[6]\n",
    "    n_comments = int(row[4])\n",
    "    \n",
    "    result_list.append([created_at, n_comments])\n",
    "    \n",
    "counts_by_hour = {}\n",
    "comments_by_hour = {}\n",
    "\n",
    "for row in result_list:\n",
    "    date = row[0]\n",
    "    date = dt.datetime.strptime(date, \"%m/%d/%Y %H:%M\")\n",
    "    hour = date.strftime(\"%H\")\n",
    "    n_comments = row[1]\n",
    "    \n",
    "    if hour not in counts_by_hour:\n",
    "        counts_by_hour[hour] = 1\n",
    "        comments_by_hour[hour] = n_comments\n",
    "    else:\n",
    "        counts_by_hour[hour] += 1\n",
    "        comments_by_hour[hour] += n_comments"
   ]
  },
  {
   "cell_type": "markdown",
   "metadata": {},
   "source": [
    "### Calculating the Average Number of Comments for Ask HN Posts by Hour\n",
    "\n",
    "Now that I've gathered the number of ask posts created during each hour of the day and the corresponding number of comments ask posts created at each hour received, I can calculate the average number of comments for posts created during each hour of the day.\n",
    "\n",
    "After completing this task, I'll display the results."
   ]
  },
  {
   "cell_type": "code",
   "execution_count": 7,
   "metadata": {},
   "outputs": [
    {
     "name": "stdout",
     "output_type": "stream",
     "text": [
      "Average number of comments per post at 02:00: 11.14\n",
      "Average number of comments per post at 01:00: 7.41\n",
      "Average number of comments per post at 22:00: 8.80\n",
      "Average number of comments per post at 21:00: 8.69\n",
      "Average number of comments per post at 19:00: 7.16\n",
      "Average number of comments per post at 17:00: 9.45\n",
      "Average number of comments per post at 15:00: 28.68\n",
      "Average number of comments per post at 14:00: 9.69\n",
      "Average number of comments per post at 13:00: 16.32\n",
      "Average number of comments per post at 11:00: 8.96\n",
      "Average number of comments per post at 10:00: 10.68\n",
      "Average number of comments per post at 09:00: 6.65\n",
      "Average number of comments per post at 07:00: 7.01\n",
      "Average number of comments per post at 03:00: 7.95\n",
      "Average number of comments per post at 23:00: 6.70\n",
      "Average number of comments per post at 20:00: 8.75\n",
      "Average number of comments per post at 16:00: 7.71\n",
      "Average number of comments per post at 08:00: 9.19\n",
      "Average number of comments per post at 00:00: 7.56\n",
      "Average number of comments per post at 18:00: 7.94\n",
      "Average number of comments per post at 12:00: 12.38\n",
      "Average number of comments per post at 04:00: 9.71\n",
      "Average number of comments per post at 06:00: 6.78\n",
      "Average number of comments per post at 05:00: 8.79\n"
     ]
    }
   ],
   "source": [
    "avg_by_hour = []\n",
    "\n",
    "for hour in comments_by_hour:\n",
    "    avg_n_comments = comments_by_hour[hour] / counts_by_hour[hour]\n",
    "    \n",
    "    avg_by_hour.append([hour, avg_n_comments])\n",
    "    \n",
    "template = \"Average number of comments per post at {hour}:00: {avg_n_comments:.2f}\" # Round average to two decimal places for readability\n",
    "\n",
    "for avg in avg_by_hour:\n",
    "    hour = avg[0]\n",
    "    avg_n_comments = avg[1]\n",
    "    \n",
    "    print(template.format(hour=hour, avg_n_comments=avg_n_comments))"
   ]
  },
  {
   "cell_type": "markdown",
   "metadata": {},
   "source": [
    "### Sorting and Printing Values from a List of Lists\n",
    "\n",
    "Although the results I need are now there, this format makes it hard to identify the hours with the highest values. I'll finish the analysis by sorting the list of lists (the collection of each hour and its corresponding average number of comments) and printing the five highest values in a format that's easier to read."
   ]
  },
  {
   "cell_type": "code",
   "execution_count": 8,
   "metadata": {},
   "outputs": [
    {
     "name": "stdout",
     "output_type": "stream",
     "text": [
      "Top 5 Hours for Ask Posts Comments:\n",
      "\n",
      "15:00: 28.68 average comments per post\n",
      "13:00: 16.32 average comments per post\n",
      "12:00: 12.38 average comments per post\n",
      "02:00: 11.14 average comments per post\n",
      "10:00: 10.68 average comments per post\n"
     ]
    }
   ],
   "source": [
    "swap_avg_by_hour = []\n",
    "\n",
    "for avg in avg_by_hour:\n",
    "    hour = avg[0]\n",
    "    avg_n_comments = avg[1]\n",
    "    \n",
    "    swap_avg_by_hour.append([avg_n_comments, hour])\n",
    "    \n",
    "sorted_swap = sorted(swap_avg_by_hour, reverse=True)\n",
    "\n",
    "print(\"Top 5 Hours for Ask Posts Comments:\\n\")\n",
    "\n",
    "template = \"{hour}:00: {avg_n_comments:.2f} average comments per post\" # Round average to two decimal places for readability\n",
    "\n",
    "for avg in sorted_swap[:5]:\n",
    "    hour = avg[1]\n",
    "    avg_n_comments = avg[0]\n",
    "    \n",
    "    print(template.format(hour=hour, avg_n_comments=avg_n_comments))"
   ]
  },
  {
   "cell_type": "markdown",
   "metadata": {},
   "source": [
    "As the output above presents, the best hour for creating a post and having the highest chance of receiving comments is 3:00 in the afternoon. Of course, posting at 1:00 p.m. or 12:00 p.m. will also give you a higher chance at receiving comments.\n",
    "\n",
    "However, the time zone for these hours (as well as the rest of the time data in the data set) is Eastern Standard Time; if you happen to live in a region of the globe that does not pertain to this specific time zone, you can find out what these hours are in your time zone using [The Time Zone Converter](https://www.thetimezoneconverter.com/).\n",
    "\n",
    "For example, my time zone is Mountain Standard Time; Eastern Standard Time is two hours ahead of my time zone, so 1:00 p.m. (not 3:00 p.m.) rather is the best hour of the day for me to create posts in hopes of collecting the most amount of comments.\n",
    "\n",
    "## Part 2: Analyzing the Number of Points for Ask HN and Show HN Posts\n",
    "\n",
    "I've finished analyzing the number of comments ask posts and show posts gather. Now, I'll perform the same analysis, but this time I'll be working with the number of points ask posts and show posts receive. Using this data, I'll accomplish the second half of my goal by solving these problems:\n",
    "\n",
    "- Do Ask HN or Show HN posts receive more points on average?\n",
    "\n",
    "- Do posts created at a certain time receive more points on average?\n",
    "\n",
    "### Calculating the Average Number of Points\n",
    "\n",
    "I'll start this new analysis by using the `num_points` column (fourth column) of the Hacker News data set to find out if ask posts or show posts earn more points on average."
   ]
  },
  {
   "cell_type": "code",
   "execution_count": 9,
   "metadata": {},
   "outputs": [
    {
     "name": "stdout",
     "output_type": "stream",
     "text": [
      "Average number of points per ask post: 11\n",
      "Average number of points per show post: 15\n"
     ]
    }
   ],
   "source": [
    "total_ask_points = 0\n",
    "total_show_points = 0\n",
    "\n",
    "for row in ask_posts:\n",
    "    n_points = int(row[3])\n",
    "    \n",
    "    total_ask_points += n_points\n",
    "    \n",
    "for row in show_posts:\n",
    "    n_points = int(row[3])\n",
    "    \n",
    "    total_show_points += n_points\n",
    "    \n",
    "avg_ask_points = total_ask_points / len(ask_posts)\n",
    "avg_show_points = total_show_points / len(show_posts)\n",
    "\n",
    "print(\"Average number of points per ask post:\", round(avg_ask_points)) # Round average to the ones place for readability\n",
    "print(\"Average number of points per show post:\", round(avg_show_points))"
   ]
  },
  {
   "cell_type": "markdown",
   "metadata": {},
   "source": [
    "From the result of the code above, you can observe that an ask post gets 11 points on average, while a show post collects 15 points on average.\n",
    "\n",
    "Because the average amount of points each show post receives is higher than that of each ask post (by 4 to be exact), I'll concentrate on dealing with show posts for the rest of this analysis.\n",
    "\n",
    "### Finding the Amount of Points in Show Posts by Hour Created\n",
    "\n",
    "In this step, I'll compute the number of points accumulated during each hour of the day show posts were created. Just like in the previous analysis, I'll be using the data in the `created_at` column to perform this task."
   ]
  },
  {
   "cell_type": "code",
   "execution_count": 10,
   "metadata": {},
   "outputs": [],
   "source": [
    "result_list = []\n",
    "\n",
    "for row in show_posts:\n",
    "    created_at = row[6]\n",
    "    n_points = int(row[4])\n",
    "    \n",
    "    result_list.append([created_at, n_points])\n",
    "    \n",
    "points_by_hour = {}\n",
    "\n",
    "for row in result_list:\n",
    "    date = row[0]\n",
    "    date = dt.datetime.strptime(date, \"%m/%d/%Y %H:%M\")\n",
    "    hour = date.strftime(\"%H\")\n",
    "    n_points = row[1]\n",
    "    \n",
    "    if hour not in points_by_hour:\n",
    "        points_by_hour[hour] = n_points\n",
    "    else:\n",
    "        points_by_hour[hour] += n_points"
   ]
  },
  {
   "cell_type": "markdown",
   "metadata": {},
   "source": [
    "### Calculating the Average Number of Points for Show HN Posts by Hour\n",
    "\n",
    "With each total amount of points collected by show posts throughout every hour of the day in place, I'm able to solve for the average number of points collected from show posts for each hour during the day (recall that I already have the quantity of posts created per hour of the day).\n",
    "\n",
    "Once I gather this information, I'll output the results."
   ]
  },
  {
   "cell_type": "code",
   "execution_count": 11,
   "metadata": {},
   "outputs": [
    {
     "name": "stdout",
     "output_type": "stream",
     "text": [
      "Average number of points per post at 00:00: 4.26\n",
      "Average number of points per post at 23:00: 4.21\n",
      "Average number of points per post at 20:00: 4.28\n",
      "Average number of points per post at 19:00: 5.06\n",
      "Average number of points per post at 18:00: 5.28\n",
      "Average number of points per post at 16:00: 6.51\n",
      "Average number of points per post at 14:00: 7.48\n",
      "Average number of points per post at 10:00: 4.35\n",
      "Average number of points per post at 09:00: 6.36\n",
      "Average number of points per post at 08:00: 6.89\n",
      "Average number of points per post at 06:00: 3.86\n",
      "Average number of points per post at 03:00: 3.45\n",
      "Average number of points per post at 21:00: 3.40\n",
      "Average number of points per post at 17:00: 5.51\n",
      "Average number of points per post at 15:00: 5.92\n",
      "Average number of points per post at 11:00: 7.73\n",
      "Average number of points per post at 07:00: 6.98\n",
      "Average number of points per post at 04:00: 4.02\n",
      "Average number of points per post at 13:00: 7.46\n",
      "Average number of points per post at 12:00: 10.55\n",
      "Average number of points per post at 01:00: 3.57\n",
      "Average number of points per post at 22:00: 3.79\n",
      "Average number of points per post at 02:00: 4.00\n",
      "Average number of points per post at 05:00: 2.83\n"
     ]
    }
   ],
   "source": [
    "avg_by_hour = []\n",
    "\n",
    "for hour in points_by_hour:\n",
    "    avg_n_points = points_by_hour[hour] / counts_by_hour[hour]\n",
    "    \n",
    "    avg_by_hour.append([hour, avg_n_points])\n",
    "    \n",
    "template = \"Average number of points per post at {hour}:00: {avg_n_points:.2f}\" # Round average to two decimal places for readability\n",
    "    \n",
    "for avg in avg_by_hour:\n",
    "    hour = avg[0]\n",
    "    avg_n_points = avg[1]\n",
    "    \n",
    "    print(template.format(hour=hour, avg_n_points=avg_n_points))"
   ]
  },
  {
   "cell_type": "markdown",
   "metadata": {},
   "source": [
    "### Sorting and Printing Values from a List of Lists\n",
    "\n",
    "Once more, this unordered list of lists of hours and their corresponding averages makes it difficult to see the hours with the highest point values. To fix this, I'll sort the list of lists and present the five greatest values in a more readable format."
   ]
  },
  {
   "cell_type": "code",
   "execution_count": 12,
   "metadata": {},
   "outputs": [
    {
     "name": "stdout",
     "output_type": "stream",
     "text": [
      "Top 5 Hours for Show Posts Points:\n",
      "\n",
      "12:00: 10.55 average points per post\n",
      "11:00: 7.73 average points per post\n",
      "14:00: 7.48 average points per post\n",
      "13:00: 7.46 average points per post\n",
      "07:00: 6.98 average points per post\n"
     ]
    }
   ],
   "source": [
    "swap_avg_by_hour = []\n",
    "\n",
    "for avg in avg_by_hour:\n",
    "    hour = avg[0]\n",
    "    avg_n_points = avg[1]\n",
    "    \n",
    "    swap_avg_by_hour.append([avg_n_points, hour])\n",
    "    \n",
    "sorted_swap = sorted(swap_avg_by_hour, reverse=True)\n",
    "\n",
    "print(\"Top 5 Hours for Show Posts Points:\\n\")\n",
    "\n",
    "template = \"{hour}:00: {avg_n_points:.2f} average points per post\" # Round average to two decimal places for readability\n",
    "\n",
    "for avg in sorted_swap[:5]:\n",
    "    hour = avg[1]\n",
    "    avg_n_points = avg[0]\n",
    "    \n",
    "    print(template.format(hour=hour, avg_n_points=avg_n_points))"
   ]
  },
  {
   "cell_type": "markdown",
   "metadata": {},
   "source": [
    "From the results above, you can see that the finest hour for making a post and likely receiving the largest amount of points is at noon. Yet posting at 11:00 a.m., 2:00 p.m., or 1:00 p.m. also isn't a bad idea if you want to have a higher chance of collecting points.\n",
    "\n",
    "Again, these hours are specific to Eastern Standard Time, so they may not be the same depending on if your time zone is different or not. Here is the tool for converting times between separate time zones: <a href=\"https://www.thetimezoneconverter.com/\" target=\"_blank\">The Time Zone Converter</a>. For instance, since my time zone is Mountain Standard Time, 10:00 a.m. (not 12:00 p.m.) is instead the golden hour of the day for me to gain the largest number of points for each post I create.\n",
    "\n",
    "## Conclusion\n",
    "\n",
    "Throughout the whole of this project, I managed and manipulated a data set with thousands of records of posts to Hacker News.\n",
    "\n",
    "My goal was to analyze the data to answer a set of questions, and in conclusion, I came to these answers:\n",
    "\n",
    "- Do Ask HN or Show HN posts receive more comments on average?\n",
    "    - Ask HN posts receive more comments on average.\n",
    "\n",
    "\n",
    "- Do posts created at a certain time receive more comments on average?\n",
    "    - Posts created during the hours of 3:00 p.m., 1:00 p.m., and 12:00 p.m. respectively receive more comments on average. However, these times apply particularly to Eastern Standard Time. In result, these hours may be different depending on what time zone you live in.\n",
    "\n",
    "\n",
    "- Do Ask HN or Show HN posts receive more points on average?\n",
    "    - Show HN posts receive more points on average.\n",
    "\n",
    "\n",
    "- Do posts created at a certain time receive more points on average?\n",
    "    - Posts created during the hours of 12:00 p.m., 11:00 a.m., and 2:00 p.m. respectively receive more points on average. Once again, these hours aren't exactly the same for everyone."
   ]
  }
 ],
 "metadata": {
  "kernelspec": {
   "display_name": "Python 3",
   "language": "python",
   "name": "python3"
  },
  "language_info": {
   "codemirror_mode": {
    "name": "ipython",
    "version": 3
   },
   "file_extension": ".py",
   "mimetype": "text/x-python",
   "name": "python",
   "nbconvert_exporter": "python",
   "pygments_lexer": "ipython3",
   "version": "3.7.4"
  }
 },
 "nbformat": 4,
 "nbformat_minor": 2
}
